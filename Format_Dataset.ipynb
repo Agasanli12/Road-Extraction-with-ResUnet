{
 "cells": [
  {
   "cell_type": "markdown",
   "metadata": {},
   "source": [
    "## Code to resize images."
   ]
  },
  {
   "cell_type": "code",
   "execution_count": 1,
   "metadata": {},
   "outputs": [],
   "source": [
    "import cv2\n",
    "from PIL import Image\n",
    "import numpy as np\n",
    "import h5py\n",
    "import os\n",
    "from matplotlib import pyplot as plt"
   ]
  },
  {
   "cell_type": "code",
   "execution_count": 5,
   "metadata": {},
   "outputs": [],
   "source": [
    "img_count=300\n",
    "#threshold function is disabled when resizing input images\n",
    "os.system(\"mkdir mask_train\")\n",
    "os.system(\"mkdir image_train\")\n",
    "images_path = \"maps_new/train/satellite/\"\n",
    "masks_path = \"maps_new/train/computer_thresholded/\"\n",
    "\n",
    "for i in range(1,img_count):\n",
    "    dim = (256, 256) #(w,h)\n",
    "    image = cv2.imread(images_path + str(i) + \".jpg\", cv2.COLOR_RGB2BGR)\n",
    "    mask = cv2.imread(masks_path + str(i) + \".png\", 0)\n",
    "\n",
    "    image_resized = cv2.resize(image, dim, interpolation=cv2.INTER_AREA)\n",
    "    mask_resized = cv2.resize(mask, dim, interpolation=cv2.INTER_AREA)\n",
    "  \n",
    "    \n",
    "    cv2.imwrite('./mask_train/' + str(i) + '.png', mask_resized)\n",
    "    cv2.imwrite('./image_train/' + str(i) + '.png', image_resized)"
   ]
  },
  {
   "cell_type": "code",
   "execution_count": 24,
   "metadata": {},
   "outputs": [],
   "source": [
    "images = []\n",
    "masks = []\n",
    "for i in range(1, img_count):\n",
    "    img = Image.open(\"image_train/\" + str(i) + \".png\")\n",
    "    arr = np.array(img)\n",
    "    images.append(arr)\n",
    "    img = Image.open(\"mask_train/\" + str(i) + \".png\")\n",
    "    arr = np.array(img)\n",
    "    arr = np.expand_dims(arr, -1)\n",
    "    masks.append(arr)"
   ]
  },
  {
   "cell_type": "code",
   "execution_count": 9,
   "metadata": {},
   "outputs": [],
   "source": [
    "images = np.array(images)\n",
    "masks = np.array(masks)"
   ]
  },
  {
   "cell_type": "code",
   "execution_count": 10,
   "metadata": {},
   "outputs": [],
   "source": [
    "with h5py.File(\"Dataset_train.h5\", 'w') as hdf:\n",
    "    hdf.create_dataset('images', data=images, compression='gzip', compression_opts=9)\n",
    "    hdf.create_dataset('masks', data=masks, compression='gzip', compression_opts=9)"
   ]
  },
  {
   "cell_type": "code",
   "execution_count": null,
   "metadata": {},
   "outputs": [],
   "source": []
  }
 ],
 "metadata": {
  "kernelspec": {
   "display_name": "Python 3",
   "language": "python",
   "name": "python3"
  },
  "language_info": {
   "codemirror_mode": {
    "name": "ipython",
    "version": 3
   },
   "file_extension": ".py",
   "mimetype": "text/x-python",
   "name": "python",
   "nbconvert_exporter": "python",
   "pygments_lexer": "ipython3",
   "version": "3.9.1"
  }
 },
 "nbformat": 4,
 "nbformat_minor": 2
}
